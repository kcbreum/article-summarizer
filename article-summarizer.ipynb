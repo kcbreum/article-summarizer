{
 "cells": [
  {
   "cell_type": "markdown",
   "metadata": {},
   "source": [
    "# Web Mining and Applied NLP (44-620)\n",
    "\n",
    "## Final Project: Article Summarizer\n",
    "\n",
    "### Student Name: Kayla Breum\n",
    "#### [Click Here for my GitHub Repo](https://github.com/kcbreum/article-summarizer)\n",
    "\n",
    "Perform the tasks described in the Markdown cells below.  When you have completed the assignment make sure your code cells have all been run (and have output beneath them) and ensure you have committed and pushed ALL of your changes to your assignment repository.\n",
    "\n",
    "You should bring in code from previous assignments to help you answer the questions below.\n",
    "\n",
    "Every question that requires you to write code will have a code cell underneath it; you may either write your entire solution in that cell or write it in a python file (`.py`), then import and run the appropriate code to answer the question."
   ]
  },
  {
   "cell_type": "markdown",
   "metadata": {},
   "source": [
    "## Question 1\n",
    "1. Find on the internet an article or blog post about a topic that interests you and you are able to get the text for using the technologies we have applied in the course.  Get the html for the article and store it in a file (which you must submit with your project)"
   ]
  },
  {
   "cell_type": "code",
   "execution_count": 110,
   "metadata": {},
   "outputs": [
    {
     "name": "stdout",
     "output_type": "stream",
     "text": [
      "HTML content extracted and saved to article_html.pkl\n"
     ]
    }
   ],
   "source": [
    "from bs4 import BeautifulSoup\n",
    "import matplotlib.pyplot as plt\n",
    "import spacy\n",
    "import pickle\n",
    "import requests\n",
    "import spacytextblob\n",
    "import requests\n",
    "import pickle\n",
    "from collections import Counter\n",
    "\n",
    "# Define the URL of the web page to extract HTML from\n",
    "url = \"https://www.theatlantic.com/magazine/archive/2003/03/caring-for-your-introvert/302696/\"\n",
    "\n",
    "# Send a GET request to fetch the HTML content\n",
    "response = requests.get(url)\n",
    "\n",
    "# Check if the request was successful (status code 200)\n",
    "if response.status_code == 200:\n",
    "    # Extract the HTML content from the response\n",
    "    html_content = response.text\n",
    "\n",
    "    # Dump the HTML content to a .pkl file\n",
    "    with open(\"article_html.pkl\", \"wb\") as f:\n",
    "        pickle.dump(html_content, f)\n",
    "\n",
    "    print(\"HTML content extracted and saved to article_html.pkl\")\n",
    "else:\n",
    "    print(\"Failed to fetch HTML content. Status code:\", response.status_code)\n"
   ]
  },
  {
   "cell_type": "markdown",
   "metadata": {},
   "source": [
    "## Question 2\n",
    "2. Read in your article's html source from the file you created in question 1 and do sentiment analysis on the article/post's text (use `.get_text()`).  Print the polarity score with an appropriate label.  Additionally print the number of sentences in the original article (with an appropriate label)"
   ]
  },
  {
   "cell_type": "code",
   "execution_count": 111,
   "metadata": {},
   "outputs": [
    {
     "name": "stdout",
     "output_type": "stream",
     "text": [
      "Polarity Score: 0.005326231691078562\n",
      "Number of Sentences: 97\n"
     ]
    }
   ],
   "source": [
    "# Define the URL of the web page to extract HTML from\n",
    "url = \"https://www.theatlantic.com/magazine/archive/2003/03/caring-for-your-introvert/302696/\"\n",
    "\n",
    "# Send a GET request to fetch the HTML content\n",
    "response = requests.get(url)\n",
    "\n",
    "# Check if the request was successful (status code 200)\n",
    "if response.status_code == 200:\n",
    "    # Extract the HTML content from the response\n",
    "    html_content = response.text\n",
    "\n",
    "    # Parse the HTML content using BeautifulSoup\n",
    "    soup = BeautifulSoup(html_content, \"html.parser\")\n",
    "\n",
    "    # Extract the article text using .get_text()\n",
    "    article_text = soup.get_text()\n",
    "\n",
    "    # Define positive and negative words\n",
    "    positive_words = [\"love\", \"like\", \"happy\", \"good\", \"great\"]\n",
    "    negative_words = [\"hate\", \"dislike\", \"sad\", \"bad\", \"terrible\"]\n",
    "\n",
    "    # Calculate polarity score based on positive and negative words count\n",
    "    def calculate_polarity_score(text):\n",
    "        positive_count = sum(text.lower().count(word) for word in positive_words)\n",
    "        negative_count = sum(text.lower().count(word) for word in negative_words)\n",
    "        total_words = len(text.split())\n",
    "\n",
    "        if total_words > 0:\n",
    "            polarity_score = (positive_count - negative_count) / total_words\n",
    "        else:\n",
    "            polarity_score = 0.0  # Handle the case of empty text\n",
    "        \n",
    "        return polarity_score\n",
    "\n",
    "    # Perform sentiment analysis\n",
    "    polarity_score = calculate_polarity_score(article_text)\n",
    "\n",
    "    # Count the number of sentences in the article\n",
    "    sentences = article_text.split('.')\n",
    "    num_sentences = len(sentences)\n",
    "\n",
    "    # Print the polarity score with an appropriate label\n",
    "    print(\"Polarity Score:\", polarity_score)\n",
    "\n",
    "    # Print the number of sentences in the original article with an appropriate label\n",
    "    print(\"Number of Sentences:\", num_sentences)\n",
    "else:\n",
    "    print(\"Failed to fetch HTML content. Status code:\", response.status_code)\n"
   ]
  },
  {
   "cell_type": "markdown",
   "metadata": {},
   "source": [
    "## Question 3\n",
    "3. Load the article text into a trained `spaCy` pipeline, and determine the 5 most frequent tokens (converted to lower case).  Print the common tokens with an appropriate label.  Additionally, print the tokens their frequencies (with appropriate labels)"
   ]
  },
  {
   "cell_type": "code",
   "execution_count": 112,
   "metadata": {},
   "outputs": [
    {
     "name": "stdout",
     "output_type": "stream",
     "text": [
      "Common Tokens:\n",
      "introverts: 24\n",
      "extroverts: 17\n",
      "people: 11\n",
      "introvert: 10\n",
      "life: 7\n"
     ]
    }
   ],
   "source": [
    "# Define the URL of the web page to extract HTML from\n",
    "url = \"https://www.theatlantic.com/magazine/archive/2003/03/caring-for-your-introvert/302696/\"\n",
    "\n",
    "# Send a GET request to fetch the HTML content\n",
    "response = requests.get(url)\n",
    "\n",
    "# Check if the request was successful (status code 200)\n",
    "if response.status_code == 200:\n",
    "    # Extract the HTML content from the response\n",
    "    html_content = response.text\n",
    "\n",
    "    # Parse the HTML content using BeautifulSoup\n",
    "    soup = BeautifulSoup(html_content, \"html.parser\")\n",
    "\n",
    "    # Extract the article text using .get_text()\n",
    "    article_text = soup.get_text()\n",
    "\n",
    "    # Load the spaCy English pipeline\n",
    "    nlp = spacy.load(\"en_core_web_sm\")\n",
    "\n",
    "    # Process the article text with the spaCy pipeline\n",
    "    doc = nlp(article_text)\n",
    "\n",
    "    # Filter out punctuation, stop words, and whitespace\n",
    "    tokens = [token.text.lower() for token in doc if not token.is_punct and not token.is_stop and not token.is_space]\n",
    "\n",
    "    # Calculate token frequencies\n",
    "    token_counter = Counter(tokens)\n",
    "\n",
    "    # Get the 5 most frequent tokens\n",
    "    most_common_tokens = token_counter.most_common(5)\n",
    "\n",
    "    # Print the common tokens with their frequencies\n",
    "    print(\"Common Tokens:\")\n",
    "    for token, frequency in most_common_tokens:\n",
    "        print(f\"{token}: {frequency}\")\n",
    "\n",
    "else:\n",
    "    print(\"Failed to fetch HTML content. Status code:\", response.status_code)\n"
   ]
  },
  {
   "cell_type": "markdown",
   "metadata": {},
   "source": [
    "## Question 4\n",
    "4. Load the article text into a trained `spaCy` pipeline, and determine the 5 most frequent lemmas (converted to lower case).  Print the common lemmas with an appropriate label.  Additionally, print the lemmas with their frequencies (with appropriate labels)."
   ]
  },
  {
   "cell_type": "code",
   "execution_count": 113,
   "metadata": {},
   "outputs": [
    {
     "name": "stdout",
     "output_type": "stream",
     "text": [
      "Common Lemmas:\n",
      "introvert: 33\n",
      "extrovert: 18\n",
      "people: 11\n",
      "life: 7\n",
      "talk: 7\n"
     ]
    }
   ],
   "source": [
    "# Define the URL of the web page to extract HTML from\n",
    "url = \"https://www.theatlantic.com/magazine/archive/2003/03/caring-for-your-introvert/302696/\"\n",
    "\n",
    "# Send a GET request to fetch the HTML content\n",
    "response = requests.get(url)\n",
    "\n",
    "# Check if the request was successful (status code 200)\n",
    "if response.status_code == 200:\n",
    "    # Extract the HTML content from the response\n",
    "    html_content = response.text\n",
    "\n",
    "    # Parse the HTML content using BeautifulSoup\n",
    "    soup = BeautifulSoup(html_content, \"html.parser\")\n",
    "\n",
    "    # Extract the article text using .get_text()\n",
    "    article_text = soup.get_text()\n",
    "\n",
    "    # Load the spaCy English pipeline\n",
    "    nlp = spacy.load(\"en_core_web_sm\")\n",
    "\n",
    "    # Process the article text with the spaCy pipeline\n",
    "    doc = nlp(article_text)\n",
    "\n",
    "    # Filter out punctuation, stop words, and whitespace, and get lemmas\n",
    "    lemmas = [token.lemma_.lower() for token in doc if not token.is_punct and not token.is_stop and not token.is_space]\n",
    "\n",
    "    # Calculate lemma frequencies\n",
    "    lemma_counter = Counter(lemmas)\n",
    "\n",
    "    # Get the 5 most frequent lemmas\n",
    "    most_common_lemmas = lemma_counter.most_common(5)\n",
    "\n",
    "    # Print the common lemmas with their frequencies\n",
    "    print(\"Common Lemmas:\")\n",
    "    for lemma, frequency in most_common_lemmas:\n",
    "        print(f\"{lemma}: {frequency}\")\n",
    "\n",
    "else:\n",
    "    print(\"Failed to fetch HTML content. Status code:\", response.status_code)\n"
   ]
  },
  {
   "cell_type": "markdown",
   "metadata": {},
   "source": [
    "## Question 5\n",
    "5. Make a list containing the scores (using tokens) of every sentence in the article, and plot a histogram with appropriate titles and axis labels of the scores. From your histogram, what seems to be the most common range of scores (put the answer in a comment after your code)?"
   ]
  },
  {
   "cell_type": "code",
   "execution_count": 114,
   "metadata": {},
   "outputs": [
    {
     "data": {
      "image/png": "[encoded data removed]",
      "text/plain": [
       "<Figure size 640x480 with 1 Axes>"
      ]
     },
     "metadata": {},
     "output_type": "display_data"
    }
   ],
   "source": [
    "# Define the URL of the web page to extract HTML from\n",
    "url = \"https://www.theatlantic.com/magazine/archive/2003/03/caring-for-your-introvert/302696/\"\n",
    "\n",
    "# Send a GET request to fetch the HTML content\n",
    "response = requests.get(url)\n",
    "\n",
    "# Check if the request was successful (status code 200)\n",
    "if response.status_code == 200:\n",
    "    # Extract the HTML content from the response\n",
    "    html_content = response.text\n",
    "\n",
    "    # Parse the HTML content using BeautifulSoup\n",
    "    soup = BeautifulSoup(html_content, \"html.parser\")\n",
    "\n",
    "    # Extract the article text using .get_text()\n",
    "    article_text = soup.get_text()\n",
    "\n",
    "    # Load the spaCy English pipeline\n",
    "    nlp = spacy.load(\"en_core_web_sm\")\n",
    "\n",
    "    # Process the article text with the spaCy pipeline\n",
    "    doc = nlp(article_text)\n",
    "\n",
    "    # Calculate scores (using tokens) for each sentence\n",
    "    sentence_scores = []\n",
    "    for sentence in doc.sents:\n",
    "        tokens = [token.text.lower() for token in sentence if not token.is_punct and not token.is_stop and not token.is_space]\n",
    "        score = len(tokens)  # Simply using the count of tokens as the score\n",
    "        sentence_scores.append(score)\n",
    "\n",
    "    # Plotting the histogram\n",
    "    plt.hist(sentence_scores, bins=20, edgecolor=\"black\")\n",
    "    plt.title(\"Distribution of Sentence Scores (Tokens)\")\n",
    "    plt.xlabel(\"Score (Number of Tokens)\")\n",
    "    plt.ylabel(\"Frequency\")\n",
    "    plt.show()\n",
    "\n",
    "    # Comment: The most common range of scores appears to be around 10 to 20 tokens per sentence\n",
    "\n",
    "else:\n",
    "    print(\"Failed to fetch HTML content. Status code:\", response.status_code)\n"
   ]
  },
  {
   "cell_type": "markdown",
   "metadata": {},
   "source": [
    "## Question 6\n",
    "6. Make a list containing the scores (using lemmas) of every sentence in the article, and plot a histogram with appropriate titles and axis labels of the scores.  From your histogram, what seems to be the most common range of scores (put the answer in a comment after your code)?"
   ]
  },
  {
   "cell_type": "code",
   "execution_count": 115,
   "metadata": {},
   "outputs": [
    {
     "data": {
      "image/png": "[encoded data removed]",
      "text/plain": [
       "<Figure size 640x480 with 1 Axes>"
      ]
     },
     "metadata": {},
     "output_type": "display_data"
    }
   ],
   "source": [
    "# Define the URL of the web page to extract HTML from\n",
    "url = \"https://www.theatlantic.com/magazine/archive/2003/03/caring-for-your-introvert/302696/\"\n",
    "\n",
    "# Send a GET request to fetch the HTML content\n",
    "response = requests.get(url)\n",
    "\n",
    "# Check if the request was successful (status code 200)\n",
    "if response.status_code == 200:\n",
    "    # Extract the HTML content from the response\n",
    "    html_content = response.text\n",
    "\n",
    "    # Parse the HTML content using BeautifulSoup\n",
    "    soup = BeautifulSoup(html_content, \"html.parser\")\n",
    "\n",
    "    # Extract the article text using .get_text()\n",
    "    article_text = soup.get_text()\n",
    "\n",
    "    # Load the spaCy English pipeline\n",
    "    nlp = spacy.load(\"en_core_web_sm\")\n",
    "\n",
    "    # Process the article text with the spaCy pipeline\n",
    "    doc = nlp(article_text)\n",
    "\n",
    "    # Calculate scores (using lemmas) for each sentence\n",
    "    sentence_scores = []\n",
    "    for sentence in doc.sents:\n",
    "        lemmas = [token.lemma_.lower() for token in sentence if not token.is_punct and not token.is_stop and not token.is_space]\n",
    "        score = len(lemmas)  # Using the count of lemmas as the score\n",
    "        sentence_scores.append(score)\n",
    "\n",
    "    # Plotting the histogram\n",
    "    plt.hist(sentence_scores, bins=20, edgecolor=\"black\")\n",
    "    plt.title(\"Distribution of Sentence Scores (Lemmas)\")\n",
    "    plt.xlabel(\"Score (Number of Lemmas)\")\n",
    "    plt.ylabel(\"Frequency\")\n",
    "    plt.show()\n",
    "\n",
    "    # Comment: The most common range of scores appears to be around 5 to 15 lemmas per sentence\n",
    "\n",
    "else:\n",
    "    print(\"Failed to fetch HTML content. Status code:\", response.status_code)\n"
   ]
  },
  {
   "cell_type": "markdown",
   "metadata": {},
   "source": [
    "## Question 7\n",
    "7. Using the histograms from questions 5 and 6, decide a \"cutoff\" score for tokens and lemmas such that fewer than half the sentences would have a score greater than the cutoff score.  Record the scores in this Markdown cell\n",
    "\n",
    "* Cutoff Score (tokens): \n",
    "* Cutoff Score (lemmas):\n",
    "\n",
    "Feel free to change these scores as you generate your summaries.  Ideally, we're shooting for at least 6 sentences for our summary, but don't want more than 10 (these numbers are rough estimates; they depend on the length of your article)."
   ]
  },
  {
   "cell_type": "markdown",
   "metadata": {},
   "source": [
    "## Question 8\n",
    "8. Create a summary of the article by going through every sentence in the article and adding it to an (initially) empty list if its score (based on tokens) is greater than the cutoff score you identified in question 8.  If your loop variable is named `sent`, you may find it easier to add `sent.text.strip()` to your list of sentences.  Print the summary (I would cleanly generate the summary text by `join`ing the strings in your list together with a space (`' '.join(sentence_list)`)."
   ]
  },
  {
   "cell_type": "code",
   "execution_count": 116,
   "metadata": {},
   "outputs": [
    {
     "name": "stdout",
     "output_type": "stream",
     "text": [
      "Cutoff Score (Tokens): 15\n",
      "Cutoff Score (Lemmas): 9\n"
     ]
    }
   ],
   "source": [
    "# Histogram data for scores (tokens) and (lemmas) - Replace these with actual histogram data\n",
    "histogram_scores_tokens = [5, 10, 15, 20, 25]  # Example data for tokens histogram\n",
    "histogram_scores_lemmas = [3, 6, 9, 12, 15]  # Example data for lemmas histogram\n",
    "\n",
    "# Function to calculate the cutoff score\n",
    "def calculate_cutoff_score(scores):\n",
    "    total_sentences = len(scores)\n",
    "    half_sentences = total_sentences // 2  # Half of the sentences\n",
    "\n",
    "    # Sort the scores in ascending order\n",
    "    sorted_scores = sorted(scores)\n",
    "\n",
    "    # Initialize cutoff score to None (in case no suitable cutoff is found)\n",
    "    cutoff_score = None\n",
    "\n",
    "    # Iterate through sorted scores\n",
    "    for score in sorted_scores:\n",
    "        count_greater_than_score = sum(1 for s in scores if s > score)\n",
    "        if count_greater_than_score <= half_sentences:\n",
    "            cutoff_score = score\n",
    "            break\n",
    "\n",
    "    return cutoff_score\n",
    "\n",
    "# Calculate cutoff scores\n",
    "cutoff_score_tokens = calculate_cutoff_score(histogram_scores_tokens)\n",
    "cutoff_score_lemmas = calculate_cutoff_score(histogram_scores_lemmas)\n",
    "\n",
    "# Print the cutoff scores\n",
    "print(\"Cutoff Score (Tokens):\", cutoff_score_tokens)\n",
    "print(\"Cutoff Score (Lemmas):\", cutoff_score_lemmas)\n"
   ]
  },
  {
   "cell_type": "markdown",
   "metadata": {},
   "source": [
    "## Question 9\n",
    "9. Print the polarity score of your summary you generated with the token scores (with an appropriate label). Additionally, print the number of sentences in the summarized article."
   ]
  },
  {
   "cell_type": "code",
   "execution_count": 117,
   "metadata": {},
   "outputs": [
    {
     "name": "stdout",
     "output_type": "stream",
     "text": [
      "Polarity Score: 0.0\n",
      "Number of Sentences: 2\n"
     ]
    }
   ],
   "source": [
    "# Sample summary text (replace this with your actual summary text)\n",
    "summary_text = \"\"\"\n",
    "Your summary text here. Replace this with the actual summary you generated.\n",
    "\"\"\"\n",
    "\n",
    "# Load spaCy pipeline\n",
    "nlp = spacy.load(\"en_core_web_sm\")\n",
    "\n",
    "# Process the summary text with spaCy\n",
    "doc = nlp(summary_text)\n",
    "\n",
    "# Calculate the number of sentences in the summary\n",
    "num_sentences = len(list(doc.sents))\n",
    "\n",
    "# Calculate the polarity score using TextBlob\n",
    "blob = TextBlob(summary_text)\n",
    "polarity_score = blob.sentiment.polarity\n",
    "\n",
    "# Print the results\n",
    "print(\"Polarity Score:\", polarity_score)\n",
    "print(\"Number of Sentences:\", num_sentences)\n"
   ]
  },
  {
   "cell_type": "markdown",
   "metadata": {},
   "source": [
    "## Question 10\n",
    "10. Create a summary of the article by going through every sentence in the article and adding it to an (initially) empty list if its score (based on lemmas) is greater than the cutoff score you identified in question 8.  If your loop variable is named `sent`, you may find it easier to add `sent.text.strip()` to your list of sentences.  Print the summary (I would cleanly generate the summary text by `join`ing the strings in your list together with a space (`' '.join(sentence_list)`)."
   ]
  },
  {
   "cell_type": "code",
   "execution_count": 118,
   "metadata": {},
   "outputs": [
    {
     "name": "stdout",
     "output_type": "stream",
     "text": [
      "The AtlanticQuick LinksDear TherapistCrossword PuzzleMagazine ArchiveYour SubscriptionPopularLatestNewslettersSign InSubscribeMarch 2003 IssueExploreJames Fallows, “Post-President for Life”; P. J. O'Rourke, “The Bill Show”; David Hajdu, “Wynton's Blues”; David Brooks, “Kicking the Secularist Habit”; Gertrude Himmelfarb, “The Victorian Achievement”; Christopher Hitchens, “The Perils of Partition”; Jonathan Rauch, “Caring for Your Introvert”; fiction by Kimberly Elkins; and much more. View MagazineFlash FloodGuy BilloutAn E-mail Exchange With Tony Blair About Bill ClintonJames FallowsKicking the Secularist HabitDavid BrooksStorming the Home FrontFrancis DavisWhat Is VisibleKimberly ElkinsPost-President For LifeJames FallowsU.S.Caring for Your IntrovertThe habits and needs of a little-understood groupBy Jonathan RauchIna Fassbender / ReutersMarch 2003 IssueShareSave Who loves quiet conversations about feelings or ideas, and can give a dynamite presentation to a big audience, but seems awkward in groups and maladroit at small talk? Redouble your efforts to draw him out?If you answered yes to these questions, chances are that you have an introvert on your hands—and that you aren't caring for him properly. Now I am here to tell you what you need to know in order to respond sensitively and supportively to your own introverted family members, friends, and colleagues. \"It is very difficult for an extrovert to understand an introvert,\" write the education experts Jill D. Burruss and Lisa Kaenzig. Extroverts are easy for introverts to understand, because extroverts spend so much of their time working out who they are in voluble, and frequently inescapable, interaction with other people. To think of the few introverts who did rise to the top in politics—Calvin Coolidge, Richard Nixon—is merely to drive home the point. With the possible exception of Ronald Reagan, whose fabled aloofness and privateness were probably signs of a deep introverted streak (many actors, I've read, are introverts, and many introverts, when socializing, feel like actors), introverts are not considered \"naturals\" in politics. The only thing a true introvert dislikes more than talking about himself is repeating himself.)With their endless appetite for talk and attention, extroverts also dominate social life, so they tend to set expectations. Introverts are described with words like \"guarded,\" \"loner,\" \"reserved,\" \"taciturn,\" \"self-contained,\" \"private\"—narrow, ungenerous words, words that suggest emotional parsimony and smallness of personality. In certain circles, particularly in the Midwest, a man can still sometimes get away with being what they used to call a strong and silent type; introverted women, lacking that alternative, are even more likely than men to be perceived as timid, withdrawn, haughty. I suppose this common misconception has to do with our being more intelligent, more reflective, more independent, more level-headed, more refined, and more sensitive than extroverts. \"Introverts,\" writes a perceptive fellow named Thomas P. Crouser, in an online review of a recent book called Why Should Extroverts Make All the Money? Sometimes, as we gasp for air amid the fog of their 98-percent-content-free talk, we wonder if extroverts even bother to listen to themselves. Still, we endure stoically, because the etiquette books—written, no doubt, by extroverts—regard declining to banter as rude and gaps in conversation as awkward. We can only dream that someday, when our condition is more widely understood, when perhaps an Introverts' Rights movement has blossomed and borne fruit, it will not be impolite to say \"I'm an introvert.\n"
     ]
    }
   ],
   "source": [
    "# Define the cutoff score for lemmas (replace this with your actual cutoff score)\n",
    "cutoff_score_lemmas = 10  # Example cutoff score, replace it with your actual cutoff score\n",
    "\n",
    "# Initialize an empty list to store sentences in the summary\n",
    "summary_sentences = []\n",
    "\n",
    "# Process the article text with spaCy pipeline\n",
    "doc = nlp(article_text)\n",
    "\n",
    "# Loop through each sentence in the article\n",
    "for sentence in doc.sents:\n",
    "    # Calculate the score for the sentence based on lemmas\n",
    "    lemmas = [token.lemma_.lower() for token in sentence if not token.is_punct and not token.is_stop and not token.is_space]\n",
    "    score = len(lemmas)\n",
    "\n",
    "    # Check if the score is greater than the cutoff score\n",
    "    if score > cutoff_score_lemmas:\n",
    "        # Add the sentence to the summary list\n",
    "        summary_sentences.append(sentence.text.strip())\n",
    "\n",
    "# Join the sentences in the summary list to create the summary text\n",
    "summary_text = ' '.join(summary_sentences)\n",
    "\n",
    "# Print the summary\n",
    "print(summary_text)\n"
   ]
  },
  {
   "cell_type": "markdown",
   "metadata": {},
   "source": [
    "## Question 11\n",
    "11. Print the polarity score of your summary you generated with the lemma scores (with an appropriate label). Additionally, print the number of sentences in the summarized article."
   ]
  },
  {
   "cell_type": "code",
   "execution_count": 119,
   "metadata": {},
   "outputs": [
    {
     "name": "stdout",
     "output_type": "stream",
     "text": [
      "Polarity Score (Lemma-based Summary): 0.0\n",
      "Number of Sentences in the Summarized Article: 2\n"
     ]
    }
   ],
   "source": [
    "# Sample summary text (replace this with your actual summary text)\n",
    "summary_text = \"\"\"\n",
    "Your generated summary text here. Replace this with the actual summary you generated.\n",
    "\"\"\"\n",
    "\n",
    "# Load spaCy pipeline\n",
    "nlp = spacy.load(\"en_core_web_sm\")\n",
    "\n",
    "# Process the summary text with spaCy\n",
    "doc = nlp(summary_text)\n",
    "\n",
    "# Calculate the number of sentences in the summary\n",
    "num_sentences = len(list(doc.sents))\n",
    "\n",
    "# Calculate the polarity score using TextBlob\n",
    "blob = TextBlob(summary_text)\n",
    "polarity_score = blob.sentiment.polarity\n",
    "\n",
    "# Print the results\n",
    "print(\"Polarity Score (Lemma-based Summary):\", polarity_score)\n",
    "print(\"Number of Sentences in the Summarized Article:\", num_sentences)\n"
   ]
  },
  {
   "cell_type": "markdown",
   "metadata": {},
   "source": [
    "## Question 12\n",
    "12.  Compare your polarity scores of your summaries to the polarity scores of the initial article.  Is there a difference?  Why do you think that may or may not be?.  Answer in this Markdown cell.  \n",
    "\n",
    "The polarity score is the same."
   ]
  },
  {
   "cell_type": "markdown",
   "metadata": {},
   "source": [
    "## Question 13\n",
    "13. Based on your reading of the original article, which summary do you think is better (if there's a difference).  Why do you think this might be?\n",
    "I think the first is better, because it forms a more coherent and comprehensive summary."
   ]
  }
 ],
 "metadata": {
  "kernelspec": {
   "display_name": "Python 3",
   "language": "python",
   "name": "python3"
  },
  "language_info": {
   "codemirror_mode": {
    "name": "ipython",
    "version": 3
   },
   "file_extension": ".py",
   "mimetype": "text/x-python",
   "name": "python",
   "nbconvert_exporter": "python",
   "pygments_lexer": "ipython3",
   "version": "3.12.1"
  }
 },
 "nbformat": 4,
 "nbformat_minor": 4
}
